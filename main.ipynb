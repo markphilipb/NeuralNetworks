{
 "cells": [
  {
   "cell_type": "code",
   "execution_count": 1,
   "metadata": {},
   "outputs": [
    {
     "name": "stderr",
     "output_type": "stream",
     "text": [
      "/anaconda3/lib/python3.6/site-packages/h5py/__init__.py:36: FutureWarning: Conversion of the second argument of issubdtype from `float` to `np.floating` is deprecated. In future, it will be treated as `np.float64 == np.dtype(float).type`.\n",
      "  from ._conv import register_converters as _register_converters\n",
      "Using TensorFlow backend.\n"
     ]
    }
   ],
   "source": [
    "import numpy as np\n",
    "import pandas as pd\n",
    "import keras\n",
    "from keras.models import Sequential\n",
    "from keras.layers import Dense, Dropout, Flatten\n",
    "from keras.layers import Conv2D, MaxPooling2D\n",
    "from keras.utils import to_categorical\n",
    "from keras.preprocessing import image\n",
    "import matplotlib.pyplot as plt\n",
    "from sklearn.metrics import confusion_matrix\n",
    "\n",
    "\n",
    "# Read Fashion MNIST dataset\n",
    "\n",
    "import util_mnist_reader\n",
    "X_train, y_train = util_mnist_reader.load_mnist('data/fashion', kind='train')\n",
    "X_test, y_test = util_mnist_reader.load_mnist('data/fashion', kind='t10k')\n",
    "\n",
    "\n"
   ]
  },
  {
   "cell_type": "code",
   "execution_count": 16,
   "metadata": {},
   "outputs": [],
   "source": [
    "def sigmoid(x):\n",
    "  return 1/(1+np.exp(-x))  \n",
    "\n",
    "def sigmoid_der(x):\n",
    "    return sigmoid(x) *(1-sigmoid(x))\n",
    "\n",
    "def relu(x):\n",
    "    return keras.activations.relu(x, alpha=0.0, max_value=None, threshold=0.0)\n",
    "\n",
    "def compute_loss(Y, Y_hat):\n",
    " \n",
    "    L_sum = np.sum(np.multiply(Y, np.log(Y_hat)))\n",
    "    m = Y.shape[1]\n",
    "    L = -(1./m) * L_sum\n",
    "\n",
    "    return L"
   ]
  },
  {
   "cell_type": "code",
   "execution_count": 17,
   "metadata": {},
   "outputs": [],
   "source": [
    "weights = np.random.rand(784, 1000)\n",
    "learning_rate = 0.1\n",
    "weights1 = np.random.rand(1000, 10)"
   ]
  },
  {
   "cell_type": "code",
   "execution_count": 32,
   "metadata": {},
   "outputs": [
    {
     "name": "stdout",
     "output_type": "stream",
     "text": [
      "205.00000000000009\n",
      "[[0.32354786 0.19423848 0.4875071  ... 0.63076609 0.09350566 0.32501623]\n",
      " [0.6638126  0.32699968 0.19931853 ... 0.53765236 0.33446388 0.00412059]\n",
      " [0.74702933 0.84328093 0.65338942 ... 0.46632246 0.59012239 0.64540612]\n",
      " ...\n",
      " [0.2166595  0.45361206 0.14422006 ... 0.23601728 0.13365363 0.33166973]\n",
      " [0.60125011 0.31956719 0.49581016 ... 0.82362005 0.29897756 0.98873902]\n",
      " [0.13949109 0.14650027 0.76779813 ... 0.07671671 0.0708197  0.6053483 ]]\n",
      "205.00000000000009\n",
      "[[0.32354786 0.19423848 0.4875071  ... 0.63076609 0.09350566 0.32501623]\n",
      " [0.6638126  0.32699968 0.19931853 ... 0.53765236 0.33446388 0.00412059]\n",
      " [0.74702933 0.84328093 0.65338942 ... 0.46632246 0.59012239 0.64540612]\n",
      " ...\n",
      " [0.2166595  0.45361206 0.14422006 ... 0.23601728 0.13365363 0.33166973]\n",
      " [0.60125011 0.31956719 0.49581016 ... 0.82362005 0.29897756 0.98873902]\n",
      " [0.13949109 0.14650027 0.76779813 ... 0.07671671 0.0708197  0.6053483 ]]\n",
      "205.00000000000009\n",
      "[[0.32354786 0.19423848 0.4875071  ... 0.63076609 0.09350566 0.32501623]\n",
      " [0.6638126  0.32699968 0.19931853 ... 0.53765236 0.33446388 0.00412059]\n",
      " [0.74702933 0.84328093 0.65338942 ... 0.46632246 0.59012239 0.64540612]\n",
      " ...\n",
      " [0.2166595  0.45361206 0.14422006 ... 0.23601728 0.13365363 0.33166973]\n",
      " [0.60125011 0.31956719 0.49581016 ... 0.82362005 0.29897756 0.98873902]\n",
      " [0.13949109 0.14650027 0.76779813 ... 0.07671671 0.0708197  0.6053483 ]]\n",
      "205.00000000000009\n",
      "[[0.32354786 0.19423848 0.4875071  ... 0.63076609 0.09350566 0.32501623]\n",
      " [0.6638126  0.32699968 0.19931853 ... 0.53765236 0.33446388 0.00412059]\n",
      " [0.74702933 0.84328093 0.65338942 ... 0.46632246 0.59012239 0.64540612]\n",
      " ...\n",
      " [0.2166595  0.45361206 0.14422006 ... 0.23601728 0.13365363 0.33166973]\n",
      " [0.60125011 0.31956719 0.49581016 ... 0.82362005 0.29897756 0.98873902]\n",
      " [0.13949109 0.14650027 0.76779813 ... 0.07671671 0.0708197  0.6053483 ]]\n",
      "205.00000000000009\n",
      "[[0.32354786 0.19423848 0.4875071  ... 0.63076609 0.09350566 0.32501623]\n",
      " [0.6638126  0.32699968 0.19931853 ... 0.53765236 0.33446388 0.00412059]\n",
      " [0.74702933 0.84328093 0.65338942 ... 0.46632246 0.59012239 0.64540612]\n",
      " ...\n",
      " [0.2166595  0.45361206 0.14422006 ... 0.23601728 0.13365363 0.33166973]\n",
      " [0.60125011 0.31956719 0.49581016 ... 0.82362005 0.29897756 0.98873902]\n",
      " [0.13949109 0.14650027 0.76779813 ... 0.07671671 0.0708197  0.6053483 ]]\n",
      "205.00000000000009\n",
      "[[0.32354786 0.19423848 0.4875071  ... 0.63076609 0.09350566 0.32501623]\n",
      " [0.6638126  0.32699968 0.19931853 ... 0.53765236 0.33446388 0.00412059]\n",
      " [0.74702933 0.84328093 0.65338942 ... 0.46632246 0.59012239 0.64540612]\n",
      " ...\n",
      " [0.2166595  0.45361206 0.14422006 ... 0.23601728 0.13365363 0.33166973]\n",
      " [0.60125011 0.31956719 0.49581016 ... 0.82362005 0.29897756 0.98873902]\n",
      " [0.13949109 0.14650027 0.76779813 ... 0.07671671 0.0708197  0.6053483 ]]\n",
      "205.00000000000009\n",
      "[[0.32354786 0.19423848 0.4875071  ... 0.63076609 0.09350566 0.32501623]\n",
      " [0.6638126  0.32699968 0.19931853 ... 0.53765236 0.33446388 0.00412059]\n",
      " [0.74702933 0.84328093 0.65338942 ... 0.46632246 0.59012239 0.64540612]\n",
      " ...\n",
      " [0.2166595  0.45361206 0.14422006 ... 0.23601728 0.13365363 0.33166973]\n",
      " [0.60125011 0.31956719 0.49581016 ... 0.82362005 0.29897756 0.98873902]\n",
      " [0.13949109 0.14650027 0.76779813 ... 0.07671671 0.0708197  0.6053483 ]]\n",
      "205.00000000000009\n",
      "[[0.32354786 0.19423848 0.4875071  ... 0.63076609 0.09350566 0.32501623]\n",
      " [0.6638126  0.32699968 0.19931853 ... 0.53765236 0.33446388 0.00412059]\n",
      " [0.74702933 0.84328093 0.65338942 ... 0.46632246 0.59012239 0.64540612]\n",
      " ...\n",
      " [0.2166595  0.45361206 0.14422006 ... 0.23601728 0.13365363 0.33166973]\n",
      " [0.60125011 0.31956719 0.49581016 ... 0.82362005 0.29897756 0.98873902]\n",
      " [0.13949109 0.14650027 0.76779813 ... 0.07671671 0.0708197  0.6053483 ]]\n",
      "205.00000000000009\n",
      "[[0.32354786 0.19423848 0.4875071  ... 0.63076609 0.09350566 0.32501623]\n",
      " [0.6638126  0.32699968 0.19931853 ... 0.53765236 0.33446388 0.00412059]\n",
      " [0.74702933 0.84328093 0.65338942 ... 0.46632246 0.59012239 0.64540612]\n",
      " ...\n",
      " [0.2166595  0.45361206 0.14422006 ... 0.23601728 0.13365363 0.33166973]\n",
      " [0.60125011 0.31956719 0.49581016 ... 0.82362005 0.29897756 0.98873902]\n",
      " [0.13949109 0.14650027 0.76779813 ... 0.07671671 0.0708197  0.6053483 ]]\n",
      "205.00000000000009\n",
      "[[0.32354786 0.19423848 0.4875071  ... 0.63076609 0.09350566 0.32501623]\n",
      " [0.6638126  0.32699968 0.19931853 ... 0.53765236 0.33446388 0.00412059]\n",
      " [0.74702933 0.84328093 0.65338942 ... 0.46632246 0.59012239 0.64540612]\n",
      " ...\n",
      " [0.2166595  0.45361206 0.14422006 ... 0.23601728 0.13365363 0.33166973]\n",
      " [0.60125011 0.31956719 0.49581016 ... 0.82362005 0.29897756 0.98873902]\n",
      " [0.13949109 0.14650027 0.76779813 ... 0.07671671 0.0708197  0.6053483 ]]\n",
      "205.00000000000009\n",
      "[[0.32354786 0.19423848 0.4875071  ... 0.63076609 0.09350566 0.32501623]\n",
      " [0.6638126  0.32699968 0.19931853 ... 0.53765236 0.33446388 0.00412059]\n",
      " [0.74702933 0.84328093 0.65338942 ... 0.46632246 0.59012239 0.64540612]\n",
      " ...\n",
      " [0.2166595  0.45361206 0.14422006 ... 0.23601728 0.13365363 0.33166973]\n",
      " [0.60125011 0.31956719 0.49581016 ... 0.82362005 0.29897756 0.98873902]\n",
      " [0.13949109 0.14650027 0.76779813 ... 0.07671671 0.0708197  0.6053483 ]]\n",
      "205.00000000000009\n",
      "[[0.32354786 0.19423848 0.4875071  ... 0.63076609 0.09350566 0.32501623]\n",
      " [0.6638126  0.32699968 0.19931853 ... 0.53765236 0.33446388 0.00412059]\n",
      " [0.74702933 0.84328093 0.65338942 ... 0.46632246 0.59012239 0.64540612]\n",
      " ...\n",
      " [0.2166595  0.45361206 0.14422006 ... 0.23601728 0.13365363 0.33166973]\n",
      " [0.60125011 0.31956719 0.49581016 ... 0.82362005 0.29897756 0.98873902]\n",
      " [0.13949109 0.14650027 0.76779813 ... 0.07671671 0.0708197  0.6053483 ]]\n",
      "205.00000000000009\n",
      "[[0.32354786 0.19423848 0.4875071  ... 0.63076609 0.09350566 0.32501623]\n",
      " [0.6638126  0.32699968 0.19931853 ... 0.53765236 0.33446388 0.00412059]\n",
      " [0.74702933 0.84328093 0.65338942 ... 0.46632246 0.59012239 0.64540612]\n",
      " ...\n",
      " [0.2166595  0.45361206 0.14422006 ... 0.23601728 0.13365363 0.33166973]\n",
      " [0.60125011 0.31956719 0.49581016 ... 0.82362005 0.29897756 0.98873902]\n",
      " [0.13949109 0.14650027 0.76779813 ... 0.07671671 0.0708197  0.6053483 ]]\n",
      "205.00000000000009\n",
      "[[0.32354786 0.19423848 0.4875071  ... 0.63076609 0.09350566 0.32501623]\n",
      " [0.6638126  0.32699968 0.19931853 ... 0.53765236 0.33446388 0.00412059]\n",
      " [0.74702933 0.84328093 0.65338942 ... 0.46632246 0.59012239 0.64540612]\n",
      " ...\n",
      " [0.2166595  0.45361206 0.14422006 ... 0.23601728 0.13365363 0.33166973]\n",
      " [0.60125011 0.31956719 0.49581016 ... 0.82362005 0.29897756 0.98873902]\n",
      " [0.13949109 0.14650027 0.76779813 ... 0.07671671 0.0708197  0.6053483 ]]\n",
      "205.00000000000009\n",
      "[[0.32354786 0.19423848 0.4875071  ... 0.63076609 0.09350566 0.32501623]\n",
      " [0.6638126  0.32699968 0.19931853 ... 0.53765236 0.33446388 0.00412059]\n",
      " [0.74702933 0.84328093 0.65338942 ... 0.46632246 0.59012239 0.64540612]\n",
      " ...\n",
      " [0.2166595  0.45361206 0.14422006 ... 0.23601728 0.13365363 0.33166973]\n",
      " [0.60125011 0.31956719 0.49581016 ... 0.82362005 0.29897756 0.98873902]\n",
      " [0.13949109 0.14650027 0.76779813 ... 0.07671671 0.0708197  0.6053483 ]]\n",
      "205.00000000000009\n",
      "[[0.32354786 0.19423848 0.4875071  ... 0.63076609 0.09350566 0.32501623]\n",
      " [0.6638126  0.32699968 0.19931853 ... 0.53765236 0.33446388 0.00412059]\n",
      " [0.74702933 0.84328093 0.65338942 ... 0.46632246 0.59012239 0.64540612]\n",
      " ...\n",
      " [0.2166595  0.45361206 0.14422006 ... 0.23601728 0.13365363 0.33166973]\n",
      " [0.60125011 0.31956719 0.49581016 ... 0.82362005 0.29897756 0.98873902]\n",
      " [0.13949109 0.14650027 0.76779813 ... 0.07671671 0.0708197  0.6053483 ]]\n",
      "205.00000000000009\n",
      "[[0.32354786 0.19423848 0.4875071  ... 0.63076609 0.09350566 0.32501623]\n",
      " [0.6638126  0.32699968 0.19931853 ... 0.53765236 0.33446388 0.00412059]\n",
      " [0.74702933 0.84328093 0.65338942 ... 0.46632246 0.59012239 0.64540612]\n",
      " ...\n",
      " [0.2166595  0.45361206 0.14422006 ... 0.23601728 0.13365363 0.33166973]\n",
      " [0.60125011 0.31956719 0.49581016 ... 0.82362005 0.29897756 0.98873902]\n",
      " [0.13949109 0.14650027 0.76779813 ... 0.07671671 0.0708197  0.6053483 ]]\n",
      "205.00000000000009\n",
      "[[0.32354786 0.19423848 0.4875071  ... 0.63076609 0.09350566 0.32501623]\n",
      " [0.6638126  0.32699968 0.19931853 ... 0.53765236 0.33446388 0.00412059]\n",
      " [0.74702933 0.84328093 0.65338942 ... 0.46632246 0.59012239 0.64540612]\n",
      " ...\n",
      " [0.2166595  0.45361206 0.14422006 ... 0.23601728 0.13365363 0.33166973]\n",
      " [0.60125011 0.31956719 0.49581016 ... 0.82362005 0.29897756 0.98873902]\n",
      " [0.13949109 0.14650027 0.76779813 ... 0.07671671 0.0708197  0.6053483 ]]\n"
     ]
    },
    {
     "name": "stdout",
     "output_type": "stream",
     "text": [
      "205.00000000000009\n",
      "[[0.32354786 0.19423848 0.4875071  ... 0.63076609 0.09350566 0.32501623]\n",
      " [0.6638126  0.32699968 0.19931853 ... 0.53765236 0.33446388 0.00412059]\n",
      " [0.74702933 0.84328093 0.65338942 ... 0.46632246 0.59012239 0.64540612]\n",
      " ...\n",
      " [0.2166595  0.45361206 0.14422006 ... 0.23601728 0.13365363 0.33166973]\n",
      " [0.60125011 0.31956719 0.49581016 ... 0.82362005 0.29897756 0.98873902]\n",
      " [0.13949109 0.14650027 0.76779813 ... 0.07671671 0.0708197  0.6053483 ]]\n",
      "205.00000000000009\n",
      "[[0.32354786 0.19423848 0.4875071  ... 0.63076609 0.09350566 0.32501623]\n",
      " [0.6638126  0.32699968 0.19931853 ... 0.53765236 0.33446388 0.00412059]\n",
      " [0.74702933 0.84328093 0.65338942 ... 0.46632246 0.59012239 0.64540612]\n",
      " ...\n",
      " [0.2166595  0.45361206 0.14422006 ... 0.23601728 0.13365363 0.33166973]\n",
      " [0.60125011 0.31956719 0.49581016 ... 0.82362005 0.29897756 0.98873902]\n",
      " [0.13949109 0.14650027 0.76779813 ... 0.07671671 0.0708197  0.6053483 ]]\n",
      "205.00000000000009\n",
      "[[0.32354786 0.19423848 0.4875071  ... 0.63076609 0.09350566 0.32501623]\n",
      " [0.6638126  0.32699968 0.19931853 ... 0.53765236 0.33446388 0.00412059]\n",
      " [0.74702933 0.84328093 0.65338942 ... 0.46632246 0.59012239 0.64540612]\n",
      " ...\n",
      " [0.2166595  0.45361206 0.14422006 ... 0.23601728 0.13365363 0.33166973]\n",
      " [0.60125011 0.31956719 0.49581016 ... 0.82362005 0.29897756 0.98873902]\n",
      " [0.13949109 0.14650027 0.76779813 ... 0.07671671 0.0708197  0.6053483 ]]\n",
      "205.00000000000009\n",
      "[[0.32354786 0.19423848 0.4875071  ... 0.63076609 0.09350566 0.32501623]\n",
      " [0.6638126  0.32699968 0.19931853 ... 0.53765236 0.33446388 0.00412059]\n",
      " [0.74702933 0.84328093 0.65338942 ... 0.46632246 0.59012239 0.64540612]\n",
      " ...\n",
      " [0.2166595  0.45361206 0.14422006 ... 0.23601728 0.13365363 0.33166973]\n",
      " [0.60125011 0.31956719 0.49581016 ... 0.82362005 0.29897756 0.98873902]\n",
      " [0.13949109 0.14650027 0.76779813 ... 0.07671671 0.0708197  0.6053483 ]]\n",
      "205.00000000000009\n",
      "[[0.32354786 0.19423848 0.4875071  ... 0.63076609 0.09350566 0.32501623]\n",
      " [0.6638126  0.32699968 0.19931853 ... 0.53765236 0.33446388 0.00412059]\n",
      " [0.74702933 0.84328093 0.65338942 ... 0.46632246 0.59012239 0.64540612]\n",
      " ...\n",
      " [0.2166595  0.45361206 0.14422006 ... 0.23601728 0.13365363 0.33166973]\n",
      " [0.60125011 0.31956719 0.49581016 ... 0.82362005 0.29897756 0.98873902]\n",
      " [0.13949109 0.14650027 0.76779813 ... 0.07671671 0.0708197  0.6053483 ]]\n",
      "205.00000000000009\n",
      "[[0.32354786 0.19423848 0.4875071  ... 0.63076609 0.09350566 0.32501623]\n",
      " [0.6638126  0.32699968 0.19931853 ... 0.53765236 0.33446388 0.00412059]\n",
      " [0.74702933 0.84328093 0.65338942 ... 0.46632246 0.59012239 0.64540612]\n",
      " ...\n",
      " [0.2166595  0.45361206 0.14422006 ... 0.23601728 0.13365363 0.33166973]\n",
      " [0.60125011 0.31956719 0.49581016 ... 0.82362005 0.29897756 0.98873902]\n",
      " [0.13949109 0.14650027 0.76779813 ... 0.07671671 0.0708197  0.6053483 ]]\n",
      "205.00000000000009\n",
      "[[0.32354786 0.19423848 0.4875071  ... 0.63076609 0.09350566 0.32501623]\n",
      " [0.6638126  0.32699968 0.19931853 ... 0.53765236 0.33446388 0.00412059]\n",
      " [0.74702933 0.84328093 0.65338942 ... 0.46632246 0.59012239 0.64540612]\n",
      " ...\n",
      " [0.2166595  0.45361206 0.14422006 ... 0.23601728 0.13365363 0.33166973]\n",
      " [0.60125011 0.31956719 0.49581016 ... 0.82362005 0.29897756 0.98873902]\n",
      " [0.13949109 0.14650027 0.76779813 ... 0.07671671 0.0708197  0.6053483 ]]\n",
      "205.00000000000009\n",
      "[[0.32354786 0.19423848 0.4875071  ... 0.63076609 0.09350566 0.32501623]\n",
      " [0.6638126  0.32699968 0.19931853 ... 0.53765236 0.33446388 0.00412059]\n",
      " [0.74702933 0.84328093 0.65338942 ... 0.46632246 0.59012239 0.64540612]\n",
      " ...\n",
      " [0.2166595  0.45361206 0.14422006 ... 0.23601728 0.13365363 0.33166973]\n",
      " [0.60125011 0.31956719 0.49581016 ... 0.82362005 0.29897756 0.98873902]\n",
      " [0.13949109 0.14650027 0.76779813 ... 0.07671671 0.0708197  0.6053483 ]]\n",
      "205.00000000000009\n",
      "[[0.32354786 0.19423848 0.4875071  ... 0.63076609 0.09350566 0.32501623]\n",
      " [0.6638126  0.32699968 0.19931853 ... 0.53765236 0.33446388 0.00412059]\n",
      " [0.74702933 0.84328093 0.65338942 ... 0.46632246 0.59012239 0.64540612]\n",
      " ...\n",
      " [0.2166595  0.45361206 0.14422006 ... 0.23601728 0.13365363 0.33166973]\n",
      " [0.60125011 0.31956719 0.49581016 ... 0.82362005 0.29897756 0.98873902]\n",
      " [0.13949109 0.14650027 0.76779813 ... 0.07671671 0.0708197  0.6053483 ]]\n",
      "205.00000000000009\n",
      "[[0.32354786 0.19423848 0.4875071  ... 0.63076609 0.09350566 0.32501623]\n",
      " [0.6638126  0.32699968 0.19931853 ... 0.53765236 0.33446388 0.00412059]\n",
      " [0.74702933 0.84328093 0.65338942 ... 0.46632246 0.59012239 0.64540612]\n",
      " ...\n",
      " [0.2166595  0.45361206 0.14422006 ... 0.23601728 0.13365363 0.33166973]\n",
      " [0.60125011 0.31956719 0.49581016 ... 0.82362005 0.29897756 0.98873902]\n",
      " [0.13949109 0.14650027 0.76779813 ... 0.07671671 0.0708197  0.6053483 ]]\n",
      "205.00000000000009\n",
      "[[0.32354786 0.19423848 0.4875071  ... 0.63076609 0.09350566 0.32501623]\n",
      " [0.6638126  0.32699968 0.19931853 ... 0.53765236 0.33446388 0.00412059]\n",
      " [0.74702933 0.84328093 0.65338942 ... 0.46632246 0.59012239 0.64540612]\n",
      " ...\n",
      " [0.2166595  0.45361206 0.14422006 ... 0.23601728 0.13365363 0.33166973]\n",
      " [0.60125011 0.31956719 0.49581016 ... 0.82362005 0.29897756 0.98873902]\n",
      " [0.13949109 0.14650027 0.76779813 ... 0.07671671 0.0708197  0.6053483 ]]\n",
      "205.00000000000009\n",
      "[[0.32354786 0.19423848 0.4875071  ... 0.63076609 0.09350566 0.32501623]\n",
      " [0.6638126  0.32699968 0.19931853 ... 0.53765236 0.33446388 0.00412059]\n",
      " [0.74702933 0.84328093 0.65338942 ... 0.46632246 0.59012239 0.64540612]\n",
      " ...\n",
      " [0.2166595  0.45361206 0.14422006 ... 0.23601728 0.13365363 0.33166973]\n",
      " [0.60125011 0.31956719 0.49581016 ... 0.82362005 0.29897756 0.98873902]\n",
      " [0.13949109 0.14650027 0.76779813 ... 0.07671671 0.0708197  0.6053483 ]]\n"
     ]
    }
   ],
   "source": [
    "for epochs in range(30):\n",
    " #     feed forward\n",
    "    z_hidden = np.dot(X_train, weights)\n",
    "    a_hidden = sigmoid(z_hidden)\n",
    " #     a_hidden = z_hidden\n",
    "    \n",
    "    z_output = np.dot(a_hidden, weights1)\n",
    "    a = sigmoid(z_output)\n",
    "\n",
    " #     back propagation\n",
    "    error_out = ((1 / 60000) * (np.power((a.T - y_train), 2)))\n",
    "    print(error_out.sum())\n",
    "\n",
    "    cost_a = a.T - y_train # derivative of cost with repect to a\n",
    "    a_zo = sigmoid_der(z_output) # derivative of a with respect to z_output\n",
    "    z_zo = 0\n",
    "    zo_wo = a_hidden #derivative of z_output with respect to weights output layer\n",
    "\n",
    "    cost_wo = np.dot(zo_wo.T, cost_a.T * a_zo) # derivative of cost with respect to weights output layer \"Chain Rule\"\n",
    "    \n",
    "    cost_zo = cost_a.T * a_zo # derivative of cost with respect to z_output\n",
    "    \n",
    "    cost_ah = np.dot(cost_zo , weights1.T) # derivative of cost with respect to a hidden layer\n",
    "    ah_zh = sigmoid_der(z_hidden) # derivative of a hidden layer with respect to z hidden layer\n",
    "    zh_wh = X_train # derivative of z hidden layer with respect to weights hidden layer\n",
    "    cost_wh = np.dot(zh_wh.T, ah_zh * cost_ah) #derivative of cost with respect to weights hidden layer \"Chain Rule\"\n",
    "    \n",
    "    weights -= learning_rate * cost_wh\n",
    "    weights1 -= learning_rate * cost_wo\n",
    "    print(weights)\n"
   ]
  },
  {
   "cell_type": "code",
   "execution_count": 33,
   "metadata": {},
   "outputs": [],
   "source": [
    "# Multilayer NN\n",
    "X_trainM = X_train\n",
    "X_testM = X_test\n",
    "\n",
    "y_trainM = keras.utils.to_categorical(y_train)\n",
    "y_testM = y_test\n",
    "model = Sequential()"
   ]
  },
  {
   "cell_type": "code",
   "execution_count": 34,
   "metadata": {},
   "outputs": [],
   "source": [
    "\n",
    "model.add(keras.layers.Dense(\n",
    "    units=50,\n",
    "    input_dim=X_trainM.shape[1],\n",
    "    kernel_initializer='glorot_uniform',\n",
    "    bias_initializer='zeros',\n",
    "    activation='sigmoid') \n",
    ")\n",
    "\n",
    "model.add(\n",
    "    keras.layers.Dense(\n",
    "        units=50,\n",
    "        input_dim=50,\n",
    "        kernel_initializer='glorot_uniform',\n",
    "        bias_initializer='zeros',\n",
    "        activation='sigmoid')\n",
    "    )\n",
    "\n",
    "model.add(\n",
    "    keras.layers.Dense(\n",
    "        units=50,\n",
    "        input_dim=50,\n",
    "        kernel_initializer='glorot_uniform',\n",
    "        bias_initializer='zeros',\n",
    "        activation='sigmoid')\n",
    "    )\n",
    "\n",
    "model.add(\n",
    "    keras.layers.Dense(\n",
    "        units=y_trainM.shape[1],\n",
    "        input_dim=50,\n",
    "        kernel_initializer='glorot_uniform',\n",
    "        bias_initializer='zeros',\n",
    "        activation='sigmoid')\n",
    "    )\n",
    "\n",
    "sgd_optimizer = keras.optimizers.SGD(\n",
    "    lr=0.001, decay=1e-7, momentum=0.9\n",
    ")\n",
    "\n",
    "model.compile(\n",
    "    optimizer=sgd_optimizer,\n",
    "    loss='categorical_crossentropy'\n",
    ")"
   ]
  },
  {
   "cell_type": "code",
   "execution_count": 35,
   "metadata": {},
   "outputs": [
    {
     "name": "stdout",
     "output_type": "stream",
     "text": [
      "Train on 54000 samples, validate on 6000 samples\n",
      "Epoch 1/50\n",
      "54000/54000 [==============================] - 3s 64us/step - loss: 2.2901 - val_loss: 2.2715\n",
      "Epoch 2/50\n",
      "54000/54000 [==============================] - 3s 58us/step - loss: 2.2535 - val_loss: 2.2311\n",
      "Epoch 3/50\n",
      "54000/54000 [==============================] - 3s 55us/step - loss: 2.1912 - val_loss: 2.1341\n",
      "Epoch 4/50\n",
      "54000/54000 [==============================] - 3s 59us/step - loss: 2.0291 - val_loss: 1.9106\n",
      "Epoch 5/50\n",
      "54000/54000 [==============================] - 3s 55us/step - loss: 1.8023 - val_loss: 1.7155\n",
      "Epoch 6/50\n",
      "54000/54000 [==============================] - 3s 59us/step - loss: 1.6500 - val_loss: 1.5898\n",
      "Epoch 7/50\n",
      "54000/54000 [==============================] - 3s 56us/step - loss: 1.5311 - val_loss: 1.4671\n",
      "Epoch 8/50\n",
      "54000/54000 [==============================] - 3s 54us/step - loss: 1.4032 - val_loss: 1.3393\n",
      "Epoch 9/50\n",
      "54000/54000 [==============================] - 3s 59us/step - loss: 1.2809 - val_loss: 1.2224\n",
      "Epoch 10/50\n",
      "54000/54000 [==============================] - 3s 55us/step - loss: 1.1806 - val_loss: 1.1265\n",
      "Epoch 11/50\n",
      "54000/54000 [==============================] - 3s 59us/step - loss: 1.0979 - val_loss: 1.0499\n",
      "Epoch 12/50\n",
      "54000/54000 [==============================] - 3s 55us/step - loss: 1.0311 - val_loss: 0.9853\n",
      "Epoch 13/50\n",
      "54000/54000 [==============================] - 3s 58us/step - loss: 0.9654 - val_loss: 0.9212\n",
      "Epoch 14/50\n",
      "54000/54000 [==============================] - 3s 55us/step - loss: 0.9057 - val_loss: 0.8658\n",
      "Epoch 15/50\n",
      "54000/54000 [==============================] - 3s 59us/step - loss: 0.8485 - val_loss: 0.8085\n",
      "Epoch 16/50\n",
      "54000/54000 [==============================] - 3s 55us/step - loss: 0.8098 - val_loss: 0.7973\n",
      "Epoch 17/50\n",
      "54000/54000 [==============================] - 3s 54us/step - loss: 0.7870 - val_loss: 0.7779\n",
      "Epoch 18/50\n",
      "54000/54000 [==============================] - 3s 60us/step - loss: 0.7512 - val_loss: 0.7249\n",
      "Epoch 19/50\n",
      "54000/54000 [==============================] - 3s 56us/step - loss: 0.7332 - val_loss: 0.7291\n",
      "Epoch 20/50\n",
      "54000/54000 [==============================] - 3s 59us/step - loss: 0.7231 - val_loss: 0.7226\n",
      "Epoch 21/50\n",
      "54000/54000 [==============================] - 3s 56us/step - loss: 0.7135 - val_loss: 0.7091\n",
      "Epoch 22/50\n",
      "54000/54000 [==============================] - 3s 60us/step - loss: 0.7090 - val_loss: 0.6822\n",
      "Epoch 23/50\n",
      "54000/54000 [==============================] - 3s 56us/step - loss: 0.6792 - val_loss: 0.6824\n",
      "Epoch 24/50\n",
      "54000/54000 [==============================] - 3s 60us/step - loss: 0.6867 - val_loss: 0.6807\n",
      "Epoch 25/50\n",
      "54000/54000 [==============================] - 3s 56us/step - loss: 0.6752 - val_loss: 0.6747\n",
      "Epoch 26/50\n",
      "54000/54000 [==============================] - 3s 60us/step - loss: 0.6661 - val_loss: 0.6834\n",
      "Epoch 27/50\n",
      "54000/54000 [==============================] - 3s 56us/step - loss: 0.6787 - val_loss: 0.6915\n",
      "Epoch 28/50\n",
      "54000/54000 [==============================] - 3s 59us/step - loss: 0.6770 - val_loss: 0.6707\n",
      "Epoch 29/50\n",
      "54000/54000 [==============================] - 3s 56us/step - loss: 0.6640 - val_loss: 0.6720\n",
      "Epoch 30/50\n",
      "54000/54000 [==============================] - 3s 56us/step - loss: 0.6541 - val_loss: 0.6584\n",
      "Epoch 31/50\n",
      "54000/54000 [==============================] - 3s 60us/step - loss: 0.6519 - val_loss: 0.6510\n",
      "Epoch 32/50\n",
      "54000/54000 [==============================] - 3s 56us/step - loss: 0.6504 - val_loss: 0.6396\n",
      "Epoch 33/50\n",
      "54000/54000 [==============================] - 3s 59us/step - loss: 0.6341 - val_loss: 0.6269\n",
      "Epoch 34/50\n",
      "54000/54000 [==============================] - 3s 57us/step - loss: 0.6464 - val_loss: 0.6235\n",
      "Epoch 35/50\n",
      "54000/54000 [==============================] - 3s 59us/step - loss: 0.6337 - val_loss: 0.6244\n",
      "Epoch 36/50\n",
      "54000/54000 [==============================] - 3s 57us/step - loss: 0.6240 - val_loss: 0.6286\n",
      "Epoch 37/50\n",
      "54000/54000 [==============================] - 3s 59us/step - loss: 0.6225 - val_loss: 0.6286\n",
      "Epoch 38/50\n",
      "54000/54000 [==============================] - 3s 57us/step - loss: 0.6300 - val_loss: 0.6575\n",
      "Epoch 39/50\n",
      "54000/54000 [==============================] - 3s 60us/step - loss: 0.6242 - val_loss: 0.6254\n",
      "Epoch 40/50\n",
      "54000/54000 [==============================] - 3s 56us/step - loss: 0.6223 - val_loss: 0.6380\n",
      "Epoch 41/50\n",
      "54000/54000 [==============================] - 3s 60us/step - loss: 0.6283 - val_loss: 0.6136\n",
      "Epoch 42/50\n",
      "54000/54000 [==============================] - 3s 56us/step - loss: 0.6305 - val_loss: 0.6183\n",
      "Epoch 43/50\n",
      "54000/54000 [==============================] - 3s 60us/step - loss: 0.6432 - val_loss: 0.6674\n",
      "Epoch 44/50\n",
      "54000/54000 [==============================] - 3s 55us/step - loss: 0.6411 - val_loss: 0.6518\n",
      "Epoch 45/50\n",
      "54000/54000 [==============================] - 3s 56us/step - loss: 0.6270 - val_loss: 0.6247\n",
      "Epoch 46/50\n",
      "54000/54000 [==============================] - 3s 59us/step - loss: 0.6170 - val_loss: 0.6207\n",
      "Epoch 47/50\n",
      "54000/54000 [==============================] - 3s 55us/step - loss: 0.6311 - val_loss: 0.6549\n",
      "Epoch 48/50\n",
      "54000/54000 [==============================] - 3s 60us/step - loss: 0.6160 - val_loss: 0.6101\n",
      "Epoch 49/50\n",
      "54000/54000 [==============================] - 3s 56us/step - loss: 0.6043 - val_loss: 0.6327\n",
      "Epoch 50/50\n",
      "54000/54000 [==============================] - 3s 59us/step - loss: 0.6282 - val_loss: 0.6115\n"
     ]
    }
   ],
   "source": [
    "history = model.fit(\n",
    "    X_trainM, y_trainM,\n",
    "    batch_size=64, epochs=50,\n",
    "    verbose=1, validation_split=0.1\n",
    ")"
   ]
  },
  {
   "cell_type": "code",
   "execution_count": 36,
   "metadata": {},
   "outputs": [
    {
     "name": "stdout",
     "output_type": "stream",
     "text": [
      "Test accuracy: 77.32\n"
     ]
    }
   ],
   "source": [
    "\n",
    "y_test_pred = model.predict_classes(X_testM, verbose=0)\n",
    "correct_preds = np.sum(y_test == y_test_pred, axis=0)\n",
    "test_acc = correct_preds / y_testM.shape[0]\n",
    "\n",
    "print(f'Test accuracy: {(test_acc * 100):.2f}')"
   ]
  },
  {
   "cell_type": "code",
   "execution_count": 37,
   "metadata": {},
   "outputs": [
    {
     "data": {
      "image/png": "[encoded data removed]",
      "text/plain": [
       "<Figure size 432x288 with 1 Axes>"
      ]
     },
     "metadata": {},
     "output_type": "display_data"
    }
   ],
   "source": [
    "plt.plot(history.history['loss'])\n",
    "plt.plot(history.history['val_loss'])\n",
    "plt.title('Loss over 50 epochs')\n",
    "plt.ylabel('Loss')\n",
    "plt.xlabel('Epoch')\n",
    "plt.legend(['Train', 'Test'], loc='upper left')\n",
    "plt.show()"
   ]
  },
  {
   "cell_type": "code",
   "execution_count": null,
   "metadata": {},
   "outputs": [],
   "source": [
    "confusion_matrix(y_trainM, y_train_pred.argmax(axis=1))"
   ]
  },
  {
   "cell_type": "code",
   "execution_count": 2,
   "metadata": {},
   "outputs": [],
   "source": [
    "#Convolutional NN\n",
    "X_trainC = X_train.reshape(60000,28,28,1)\n",
    "X_testC = X_test.reshape(10000,28,28,1)\n",
    "\n",
    "y_trainC = to_categorical(y_train)\n",
    "y_testC = to_categorical(y_test)\n",
    "\n",
    "mod = Sequential()"
   ]
  },
  {
   "cell_type": "code",
   "execution_count": 3,
   "metadata": {},
   "outputs": [
    {
     "name": "stdout",
     "output_type": "stream",
     "text": [
      "WARNING:tensorflow:From /anaconda3/lib/python3.6/site-packages/tensorflow/python/ops/resource_variable_ops.py:435: colocate_with (from tensorflow.python.framework.ops) is deprecated and will be removed in a future version.\n",
      "Instructions for updating:\n",
      "Colocations handled automatically by placer.\n"
     ]
    }
   ],
   "source": [
    "mod.add(Conv2D(64, kernel_size=3, activation='relu', input_shape=(28,28,1)))\n",
    "mod.add(Conv2D(32, kernel_size=3, activation='relu'))\n",
    "mod.add(Flatten())\n",
    "mod.add(Dense(10, activation='softmax'))"
   ]
  },
  {
   "cell_type": "code",
   "execution_count": 4,
   "metadata": {},
   "outputs": [],
   "source": [
    "mod.compile(optimizer='adam', loss='categorical_crossentropy', metrics=['accuracy'])"
   ]
  },
  {
   "cell_type": "code",
   "execution_count": 5,
   "metadata": {},
   "outputs": [
    {
     "name": "stdout",
     "output_type": "stream",
     "text": [
      "WARNING:tensorflow:From /anaconda3/lib/python3.6/site-packages/tensorflow/python/ops/math_ops.py:3066: to_int32 (from tensorflow.python.ops.math_ops) is deprecated and will be removed in a future version.\n",
      "Instructions for updating:\n",
      "Use tf.cast instead.\n",
      "Train on 60000 samples, validate on 10000 samples\n",
      "Epoch 1/3\n",
      "60000/60000 [==============================] - 86s 1ms/step - loss: 0.7189 - accuracy: 0.8315 - val_loss: 0.4052 - val_accuracy: 0.8571\n",
      "Epoch 2/3\n",
      "60000/60000 [==============================] - 84s 1ms/step - loss: 0.2953 - accuracy: 0.8923 - val_loss: 0.3427 - val_accuracy: 0.8795\n",
      "Epoch 3/3\n",
      "60000/60000 [==============================] - 86s 1ms/step - loss: 0.2480 - accuracy: 0.9100 - val_loss: 0.3706 - val_accuracy: 0.8731\n"
     ]
    }
   ],
   "source": [
    "histor = mod.fit(X_trainC, y_trainC, validation_data=(X_testC, y_testC), epochs=3)"
   ]
  },
  {
   "cell_type": "code",
   "execution_count": 6,
   "metadata": {},
   "outputs": [
    {
     "data": {
      "text/plain": [
       "array([[6.4096021e-08, 2.8589167e-09, 3.3614900e-09, 5.5382106e-08,\n",
       "        3.3888320e-08, 7.5016331e-05, 2.0225107e-08, 4.0987652e-05,\n",
       "        2.4874851e-07, 9.9988353e-01],\n",
       "       [2.6946459e-03, 2.7782298e-03, 8.1129587e-01, 3.2120727e-03,\n",
       "        8.8440850e-02, 3.8020022e-07, 9.1525525e-02, 5.6487849e-08,\n",
       "        2.1464031e-05, 3.0824314e-05],\n",
       "       [1.9077682e-08, 9.9999928e-01, 2.5883278e-07, 6.8802343e-08,\n",
       "        1.0576443e-09, 3.1439626e-08, 6.6798274e-09, 3.2374530e-11,\n",
       "        3.8131103e-07, 9.5680408e-10],\n",
       "       [6.2135978e-06, 9.9995804e-01, 2.2393336e-09, 1.2326012e-05,\n",
       "        8.8020965e-07, 1.0570976e-07, 2.4736239e-06, 3.6220719e-08,\n",
       "        3.1109185e-08, 1.9987450e-05]], dtype=float32)"
      ]
     },
     "execution_count": 6,
     "metadata": {},
     "output_type": "execute_result"
    }
   ],
   "source": [
    "mod.predict(X_testC[:4])\n"
   ]
  },
  {
   "cell_type": "code",
   "execution_count": 7,
   "metadata": {},
   "outputs": [
    {
     "data": {
      "text/plain": [
       "array([[0., 0., 0., 0., 0., 0., 0., 0., 0., 1.],\n",
       "       [0., 0., 1., 0., 0., 0., 0., 0., 0., 0.],\n",
       "       [0., 1., 0., 0., 0., 0., 0., 0., 0., 0.],\n",
       "       [0., 1., 0., 0., 0., 0., 0., 0., 0., 0.]], dtype=float32)"
      ]
     },
     "execution_count": 7,
     "metadata": {},
     "output_type": "execute_result"
    }
   ],
   "source": [
    "y_testC[:4]"
   ]
  },
  {
   "cell_type": "code",
   "execution_count": 9,
   "metadata": {},
   "outputs": [
    {
     "name": "stdout",
     "output_type": "stream",
     "text": [
      "Test accuracy: 87.31\n"
     ]
    }
   ],
   "source": [
    "y_test_pre = mod.predict_classes(X_testC, verbose=0)\n",
    "correct_pred = np.sum(y_test == y_test_pre, axis=0)\n",
    "test_ac = correct_pred / y_testC.shape[0]\n",
    "print(f'Test accuracy: {(test_ac * 100):.2f}')"
   ]
  },
  {
   "cell_type": "code",
   "execution_count": 15,
   "metadata": {},
   "outputs": [
    {
     "data": {
      "image/png": "[encoded data removed]",
      "text/plain": [
       "<Figure size 432x288 with 1 Axes>"
      ]
     },
     "metadata": {},
     "output_type": "display_data"
    }
   ],
   "source": [
    "plt.plot(histor.history['loss'])\n",
    "plt.plot(histor.history['val_loss'])\n",
    "plt.title('CNN Loss over 50 epochs')\n",
    "plt.ylabel('Loss')\n",
    "plt.xlabel('Epoch')\n",
    "plt.legend(['Train', 'Test'], loc='upper left')\n",
    "plt.show()"
   ]
  },
  {
   "cell_type": "code",
   "execution_count": null,
   "metadata": {},
   "outputs": [],
   "source": [
    "confusion_matrix(y_trainC.argmax(axis=1), pre.argmax(axis=1))"
   ]
  },
  {
   "cell_type": "code",
   "execution_count": null,
   "metadata": {},
   "outputs": [],
   "source": []
  }
 ],
 "metadata": {
  "kernelspec": {
   "display_name": "Python 3",
   "language": "python",
   "name": "python3"
  },
  "language_info": {
   "codemirror_mode": {
    "name": "ipython",
    "version": 3
   },
   "file_extension": ".py",
   "mimetype": "text/x-python",
   "name": "python",
   "nbconvert_exporter": "python",
   "pygments_lexer": "ipython3",
   "version": "3.7.4"
  }
 },
 "nbformat": 4,
 "nbformat_minor": 2
}
